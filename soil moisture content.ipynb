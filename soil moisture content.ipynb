{
 "cells": [
  {
   "cell_type": "code",
   "execution_count": 1,
   "metadata": {},
   "outputs": [],
   "source": [
    "import numpy as np\n",
    "import matplotlib.pyplot as plt\n",
    "import pandas as pd"
   ]
  },
  {
   "cell_type": "code",
   "execution_count": 2,
   "metadata": {},
   "outputs": [],
   "source": [
    "dataset = pd.read_csv('soil-final.csv')"
   ]
  },
  {
   "cell_type": "code",
   "execution_count": 5,
   "metadata": {},
   "outputs": [
    {
     "data": {
      "text/html": [
       "<div>\n",
       "<style scoped>\n",
       "    .dataframe tbody tr th:only-of-type {\n",
       "        vertical-align: middle;\n",
       "    }\n",
       "\n",
       "    .dataframe tbody tr th {\n",
       "        vertical-align: top;\n",
       "    }\n",
       "\n",
       "    .dataframe thead th {\n",
       "        text-align: right;\n",
       "    }\n",
       "</style>\n",
       "<table border=\"1\" class=\"dataframe\">\n",
       "  <thead>\n",
       "    <tr style=\"text-align: right;\">\n",
       "      <th></th>\n",
       "      <th>DATE-TIME</th>\n",
       "      <th>HP Temp (0-5cm)</th>\n",
       "      <th>Temp 1cm</th>\n",
       "      <th>Temp 2.5cm</th>\n",
       "      <th>Temp 5cm</th>\n",
       "      <th>SM (0-5cm)</th>\n",
       "      <th>Unnamed: 6</th>\n",
       "      <th>Unnamed: 7</th>\n",
       "      <th>Unnamed: 8</th>\n",
       "      <th>Unnamed: 9</th>\n",
       "      <th>Unnamed: 10</th>\n",
       "      <th>Unnamed: 11</th>\n",
       "      <th>Unnamed: 12</th>\n",
       "      <th>Unnamed: 13</th>\n",
       "      <th>Unnamed: 14</th>\n",
       "    </tr>\n",
       "  </thead>\n",
       "  <tbody>\n",
       "    <tr>\n",
       "      <th>0</th>\n",
       "      <td>1/6/2018 0:00</td>\n",
       "      <td>5.1</td>\n",
       "      <td>6.98</td>\n",
       "      <td>7.45</td>\n",
       "      <td>8.19</td>\n",
       "      <td>16.92</td>\n",
       "      <td>NaN</td>\n",
       "      <td>NaN</td>\n",
       "      <td>NaN</td>\n",
       "      <td>NaN</td>\n",
       "      <td>NaN</td>\n",
       "      <td>NaN</td>\n",
       "      <td>NaN</td>\n",
       "      <td>NaN</td>\n",
       "      <td>NaN</td>\n",
       "    </tr>\n",
       "    <tr>\n",
       "      <th>1</th>\n",
       "      <td>1/6/2018 0:20</td>\n",
       "      <td>4.7</td>\n",
       "      <td>6.69</td>\n",
       "      <td>7.18</td>\n",
       "      <td>7.96</td>\n",
       "      <td>16.82</td>\n",
       "      <td>NaN</td>\n",
       "      <td>NaN</td>\n",
       "      <td>NaN</td>\n",
       "      <td>NaN</td>\n",
       "      <td>NaN</td>\n",
       "      <td>NaN</td>\n",
       "      <td>NaN</td>\n",
       "      <td>NaN</td>\n",
       "      <td>NaN</td>\n",
       "    </tr>\n",
       "    <tr>\n",
       "      <th>2</th>\n",
       "      <td>1/6/2018 0:40</td>\n",
       "      <td>4.4</td>\n",
       "      <td>6.43</td>\n",
       "      <td>6.95</td>\n",
       "      <td>7.74</td>\n",
       "      <td>16.49</td>\n",
       "      <td>NaN</td>\n",
       "      <td>NaN</td>\n",
       "      <td>NaN</td>\n",
       "      <td>NaN</td>\n",
       "      <td>NaN</td>\n",
       "      <td>NaN</td>\n",
       "      <td>NaN</td>\n",
       "      <td>NaN</td>\n",
       "      <td>NaN</td>\n",
       "    </tr>\n",
       "    <tr>\n",
       "      <th>3</th>\n",
       "      <td>1/6/2018 1:00</td>\n",
       "      <td>4.0</td>\n",
       "      <td>6.10</td>\n",
       "      <td>6.61</td>\n",
       "      <td>7.47</td>\n",
       "      <td>16.75</td>\n",
       "      <td>NaN</td>\n",
       "      <td>NaN</td>\n",
       "      <td>NaN</td>\n",
       "      <td>NaN</td>\n",
       "      <td>NaN</td>\n",
       "      <td>NaN</td>\n",
       "      <td>NaN</td>\n",
       "      <td>NaN</td>\n",
       "      <td>NaN</td>\n",
       "    </tr>\n",
       "    <tr>\n",
       "      <th>4</th>\n",
       "      <td>1/6/2018 1:20</td>\n",
       "      <td>3.9</td>\n",
       "      <td>6.01</td>\n",
       "      <td>6.51</td>\n",
       "      <td>7.39</td>\n",
       "      <td>16.76</td>\n",
       "      <td>NaN</td>\n",
       "      <td>NaN</td>\n",
       "      <td>NaN</td>\n",
       "      <td>NaN</td>\n",
       "      <td>NaN</td>\n",
       "      <td>NaN</td>\n",
       "      <td>NaN</td>\n",
       "      <td>NaN</td>\n",
       "      <td>NaN</td>\n",
       "    </tr>\n",
       "    <tr>\n",
       "      <th>...</th>\n",
       "      <td>...</td>\n",
       "      <td>...</td>\n",
       "      <td>...</td>\n",
       "      <td>...</td>\n",
       "      <td>...</td>\n",
       "      <td>...</td>\n",
       "      <td>...</td>\n",
       "      <td>...</td>\n",
       "      <td>...</td>\n",
       "      <td>...</td>\n",
       "      <td>...</td>\n",
       "      <td>...</td>\n",
       "      <td>...</td>\n",
       "      <td>...</td>\n",
       "      <td>...</td>\n",
       "    </tr>\n",
       "    <tr>\n",
       "      <th>6619</th>\n",
       "      <td>31/8/2018 22:20</td>\n",
       "      <td>9.9</td>\n",
       "      <td>10.81</td>\n",
       "      <td>11.04</td>\n",
       "      <td>11.38</td>\n",
       "      <td>9.44</td>\n",
       "      <td>NaN</td>\n",
       "      <td>NaN</td>\n",
       "      <td>NaN</td>\n",
       "      <td>NaN</td>\n",
       "      <td>NaN</td>\n",
       "      <td>NaN</td>\n",
       "      <td>NaN</td>\n",
       "      <td>NaN</td>\n",
       "      <td>NaN</td>\n",
       "    </tr>\n",
       "    <tr>\n",
       "      <th>6620</th>\n",
       "      <td>31/8/2018 22:40</td>\n",
       "      <td>9.5</td>\n",
       "      <td>10.38</td>\n",
       "      <td>10.68</td>\n",
       "      <td>11.06</td>\n",
       "      <td>9.44</td>\n",
       "      <td>NaN</td>\n",
       "      <td>NaN</td>\n",
       "      <td>NaN</td>\n",
       "      <td>NaN</td>\n",
       "      <td>NaN</td>\n",
       "      <td>NaN</td>\n",
       "      <td>NaN</td>\n",
       "      <td>NaN</td>\n",
       "      <td>NaN</td>\n",
       "    </tr>\n",
       "    <tr>\n",
       "      <th>6621</th>\n",
       "      <td>31/8/2018 23:00</td>\n",
       "      <td>9.2</td>\n",
       "      <td>10.21</td>\n",
       "      <td>10.52</td>\n",
       "      <td>10.92</td>\n",
       "      <td>9.44</td>\n",
       "      <td>NaN</td>\n",
       "      <td>NaN</td>\n",
       "      <td>NaN</td>\n",
       "      <td>NaN</td>\n",
       "      <td>NaN</td>\n",
       "      <td>NaN</td>\n",
       "      <td>NaN</td>\n",
       "      <td>NaN</td>\n",
       "      <td>NaN</td>\n",
       "    </tr>\n",
       "    <tr>\n",
       "      <th>6622</th>\n",
       "      <td>31/8/2018 23:20</td>\n",
       "      <td>9.1</td>\n",
       "      <td>10.07</td>\n",
       "      <td>10.36</td>\n",
       "      <td>10.76</td>\n",
       "      <td>9.19</td>\n",
       "      <td>NaN</td>\n",
       "      <td>NaN</td>\n",
       "      <td>NaN</td>\n",
       "      <td>NaN</td>\n",
       "      <td>NaN</td>\n",
       "      <td>NaN</td>\n",
       "      <td>NaN</td>\n",
       "      <td>NaN</td>\n",
       "      <td>NaN</td>\n",
       "    </tr>\n",
       "    <tr>\n",
       "      <th>6623</th>\n",
       "      <td>31/8/2018 23:40</td>\n",
       "      <td>9.1</td>\n",
       "      <td>9.90</td>\n",
       "      <td>10.20</td>\n",
       "      <td>10.60</td>\n",
       "      <td>9.19</td>\n",
       "      <td>NaN</td>\n",
       "      <td>NaN</td>\n",
       "      <td>NaN</td>\n",
       "      <td>NaN</td>\n",
       "      <td>NaN</td>\n",
       "      <td>NaN</td>\n",
       "      <td>NaN</td>\n",
       "      <td>NaN</td>\n",
       "      <td>NaN</td>\n",
       "    </tr>\n",
       "  </tbody>\n",
       "</table>\n",
       "<p>6624 rows × 15 columns</p>\n",
       "</div>"
      ],
      "text/plain": [
       "            DATE-TIME  HP Temp (0-5cm)   Temp 1cm   Temp 2.5cm   Temp 5cm   \\\n",
       "0       1/6/2018 0:00               5.1       6.98         7.45       8.19   \n",
       "1       1/6/2018 0:20               4.7       6.69         7.18       7.96   \n",
       "2       1/6/2018 0:40               4.4       6.43         6.95       7.74   \n",
       "3       1/6/2018 1:00               4.0       6.10         6.61       7.47   \n",
       "4       1/6/2018 1:20               3.9       6.01         6.51       7.39   \n",
       "...               ...               ...        ...          ...        ...   \n",
       "6619  31/8/2018 22:20               9.9      10.81        11.04      11.38   \n",
       "6620  31/8/2018 22:40               9.5      10.38        10.68      11.06   \n",
       "6621  31/8/2018 23:00               9.2      10.21        10.52      10.92   \n",
       "6622  31/8/2018 23:20               9.1      10.07        10.36      10.76   \n",
       "6623  31/8/2018 23:40               9.1       9.90        10.20      10.60   \n",
       "\n",
       "      SM (0-5cm)  Unnamed: 6  Unnamed: 7  Unnamed: 8  Unnamed: 9  Unnamed: 10  \\\n",
       "0          16.92         NaN         NaN         NaN         NaN          NaN   \n",
       "1          16.82         NaN         NaN         NaN         NaN          NaN   \n",
       "2          16.49         NaN         NaN         NaN         NaN          NaN   \n",
       "3          16.75         NaN         NaN         NaN         NaN          NaN   \n",
       "4          16.76         NaN         NaN         NaN         NaN          NaN   \n",
       "...          ...         ...         ...         ...         ...          ...   \n",
       "6619        9.44         NaN         NaN         NaN         NaN          NaN   \n",
       "6620        9.44         NaN         NaN         NaN         NaN          NaN   \n",
       "6621        9.44         NaN         NaN         NaN         NaN          NaN   \n",
       "6622        9.19         NaN         NaN         NaN         NaN          NaN   \n",
       "6623        9.19         NaN         NaN         NaN         NaN          NaN   \n",
       "\n",
       "      Unnamed: 11  Unnamed: 12  Unnamed: 13  Unnamed: 14  \n",
       "0             NaN          NaN          NaN          NaN  \n",
       "1             NaN          NaN          NaN          NaN  \n",
       "2             NaN          NaN          NaN          NaN  \n",
       "3             NaN          NaN          NaN          NaN  \n",
       "4             NaN          NaN          NaN          NaN  \n",
       "...           ...          ...          ...          ...  \n",
       "6619          NaN          NaN          NaN          NaN  \n",
       "6620          NaN          NaN          NaN          NaN  \n",
       "6621          NaN          NaN          NaN          NaN  \n",
       "6622          NaN          NaN          NaN          NaN  \n",
       "6623          NaN          NaN          NaN          NaN  \n",
       "\n",
       "[6624 rows x 15 columns]"
      ]
     },
     "execution_count": 5,
     "metadata": {},
     "output_type": "execute_result"
    }
   ],
   "source": [
    "dataset"
   ]
  },
  {
   "cell_type": "code",
   "execution_count": 7,
   "metadata": {},
   "outputs": [],
   "source": [
    "dataset.drop(labels = ['DATE-TIME','Unnamed: 6','Unnamed: 7','Unnamed: 8','Unnamed: 9','Unnamed: 10','Unnamed: 11','Unnamed: 12','Unnamed: 13','Unnamed: 14'],axis = 1,inplace = True)"
   ]
  },
  {
   "cell_type": "code",
   "execution_count": 8,
   "metadata": {},
   "outputs": [
    {
     "data": {
      "text/html": [
       "<div>\n",
       "<style scoped>\n",
       "    .dataframe tbody tr th:only-of-type {\n",
       "        vertical-align: middle;\n",
       "    }\n",
       "\n",
       "    .dataframe tbody tr th {\n",
       "        vertical-align: top;\n",
       "    }\n",
       "\n",
       "    .dataframe thead th {\n",
       "        text-align: right;\n",
       "    }\n",
       "</style>\n",
       "<table border=\"1\" class=\"dataframe\">\n",
       "  <thead>\n",
       "    <tr style=\"text-align: right;\">\n",
       "      <th></th>\n",
       "      <th>HP Temp (0-5cm)</th>\n",
       "      <th>Temp 1cm</th>\n",
       "      <th>Temp 2.5cm</th>\n",
       "      <th>Temp 5cm</th>\n",
       "      <th>SM (0-5cm)</th>\n",
       "    </tr>\n",
       "  </thead>\n",
       "  <tbody>\n",
       "    <tr>\n",
       "      <th>0</th>\n",
       "      <td>5.1</td>\n",
       "      <td>6.98</td>\n",
       "      <td>7.45</td>\n",
       "      <td>8.19</td>\n",
       "      <td>16.92</td>\n",
       "    </tr>\n",
       "    <tr>\n",
       "      <th>1</th>\n",
       "      <td>4.7</td>\n",
       "      <td>6.69</td>\n",
       "      <td>7.18</td>\n",
       "      <td>7.96</td>\n",
       "      <td>16.82</td>\n",
       "    </tr>\n",
       "    <tr>\n",
       "      <th>2</th>\n",
       "      <td>4.4</td>\n",
       "      <td>6.43</td>\n",
       "      <td>6.95</td>\n",
       "      <td>7.74</td>\n",
       "      <td>16.49</td>\n",
       "    </tr>\n",
       "    <tr>\n",
       "      <th>3</th>\n",
       "      <td>4.0</td>\n",
       "      <td>6.10</td>\n",
       "      <td>6.61</td>\n",
       "      <td>7.47</td>\n",
       "      <td>16.75</td>\n",
       "    </tr>\n",
       "    <tr>\n",
       "      <th>4</th>\n",
       "      <td>3.9</td>\n",
       "      <td>6.01</td>\n",
       "      <td>6.51</td>\n",
       "      <td>7.39</td>\n",
       "      <td>16.76</td>\n",
       "    </tr>\n",
       "    <tr>\n",
       "      <th>...</th>\n",
       "      <td>...</td>\n",
       "      <td>...</td>\n",
       "      <td>...</td>\n",
       "      <td>...</td>\n",
       "      <td>...</td>\n",
       "    </tr>\n",
       "    <tr>\n",
       "      <th>6619</th>\n",
       "      <td>9.9</td>\n",
       "      <td>10.81</td>\n",
       "      <td>11.04</td>\n",
       "      <td>11.38</td>\n",
       "      <td>9.44</td>\n",
       "    </tr>\n",
       "    <tr>\n",
       "      <th>6620</th>\n",
       "      <td>9.5</td>\n",
       "      <td>10.38</td>\n",
       "      <td>10.68</td>\n",
       "      <td>11.06</td>\n",
       "      <td>9.44</td>\n",
       "    </tr>\n",
       "    <tr>\n",
       "      <th>6621</th>\n",
       "      <td>9.2</td>\n",
       "      <td>10.21</td>\n",
       "      <td>10.52</td>\n",
       "      <td>10.92</td>\n",
       "      <td>9.44</td>\n",
       "    </tr>\n",
       "    <tr>\n",
       "      <th>6622</th>\n",
       "      <td>9.1</td>\n",
       "      <td>10.07</td>\n",
       "      <td>10.36</td>\n",
       "      <td>10.76</td>\n",
       "      <td>9.19</td>\n",
       "    </tr>\n",
       "    <tr>\n",
       "      <th>6623</th>\n",
       "      <td>9.1</td>\n",
       "      <td>9.90</td>\n",
       "      <td>10.20</td>\n",
       "      <td>10.60</td>\n",
       "      <td>9.19</td>\n",
       "    </tr>\n",
       "  </tbody>\n",
       "</table>\n",
       "<p>6624 rows × 5 columns</p>\n",
       "</div>"
      ],
      "text/plain": [
       "      HP Temp (0-5cm)   Temp 1cm   Temp 2.5cm   Temp 5cm   SM (0-5cm)\n",
       "0                  5.1       6.98         7.45       8.19       16.92\n",
       "1                  4.7       6.69         7.18       7.96       16.82\n",
       "2                  4.4       6.43         6.95       7.74       16.49\n",
       "3                  4.0       6.10         6.61       7.47       16.75\n",
       "4                  3.9       6.01         6.51       7.39       16.76\n",
       "...                ...        ...          ...        ...         ...\n",
       "6619               9.9      10.81        11.04      11.38        9.44\n",
       "6620               9.5      10.38        10.68      11.06        9.44\n",
       "6621               9.2      10.21        10.52      10.92        9.44\n",
       "6622               9.1      10.07        10.36      10.76        9.19\n",
       "6623               9.1       9.90        10.20      10.60        9.19\n",
       "\n",
       "[6624 rows x 5 columns]"
      ]
     },
     "execution_count": 8,
     "metadata": {},
     "output_type": "execute_result"
    }
   ],
   "source": [
    "dataset"
   ]
  },
  {
   "cell_type": "code",
   "execution_count": 9,
   "metadata": {},
   "outputs": [
    {
     "data": {
      "text/plain": [
       "<bound method DataFrame.info of       HP Temp (0-5cm)   Temp 1cm   Temp 2.5cm   Temp 5cm   SM (0-5cm)\n",
       "0                  5.1       6.98         7.45       8.19       16.92\n",
       "1                  4.7       6.69         7.18       7.96       16.82\n",
       "2                  4.4       6.43         6.95       7.74       16.49\n",
       "3                  4.0       6.10         6.61       7.47       16.75\n",
       "4                  3.9       6.01         6.51       7.39       16.76\n",
       "...                ...        ...          ...        ...         ...\n",
       "6619               9.9      10.81        11.04      11.38        9.44\n",
       "6620               9.5      10.38        10.68      11.06        9.44\n",
       "6621               9.2      10.21        10.52      10.92        9.44\n",
       "6622               9.1      10.07        10.36      10.76        9.19\n",
       "6623               9.1       9.90        10.20      10.60        9.19\n",
       "\n",
       "[6624 rows x 5 columns]>"
      ]
     },
     "execution_count": 9,
     "metadata": {},
     "output_type": "execute_result"
    }
   ],
   "source": [
    "dataset.info"
   ]
  },
  {
   "cell_type": "code",
   "execution_count": 10,
   "metadata": {},
   "outputs": [
    {
     "name": "stdout",
     "output_type": "stream",
     "text": [
      "<class 'pandas.core.frame.DataFrame'>\n",
      "RangeIndex: 6624 entries, 0 to 6623\n",
      "Data columns (total 5 columns):\n",
      " #   Column            Non-Null Count  Dtype  \n",
      "---  ------            --------------  -----  \n",
      " 0   HP Temp (0-5cm)   6624 non-null   float64\n",
      " 1   Temp 1cm          6624 non-null   float64\n",
      " 2   Temp 2.5cm        6624 non-null   float64\n",
      " 3   Temp 5cm          6624 non-null   float64\n",
      " 4   SM (0-5cm)        6624 non-null   float64\n",
      "dtypes: float64(5)\n",
      "memory usage: 258.9 KB\n"
     ]
    }
   ],
   "source": [
    "dataset.info()"
   ]
  },
  {
   "cell_type": "code",
   "execution_count": 11,
   "metadata": {},
   "outputs": [
    {
     "data": {
      "text/plain": [
       "(6624, 5)"
      ]
     },
     "execution_count": 11,
     "metadata": {},
     "output_type": "execute_result"
    }
   ],
   "source": [
    "dataset.shape"
   ]
  },
  {
   "cell_type": "code",
   "execution_count": 12,
   "metadata": {},
   "outputs": [
    {
     "data": {
      "text/plain": [
       "(6624, 4)"
      ]
     },
     "execution_count": 12,
     "metadata": {},
     "output_type": "execute_result"
    }
   ],
   "source": [
    "from sklearn.preprocessing import StandardScaler\n",
    "sc = StandardScaler()\n",
    "\n",
    "X = dataset.drop(labels = ['SM (0-5cm)'],axis = 1)\n",
    "X.shape"
   ]
  },
  {
   "cell_type": "code",
   "execution_count": 13,
   "metadata": {},
   "outputs": [
    {
     "name": "stdout",
     "output_type": "stream",
     "text": [
      "[[-0.18578096 -0.56634579 -0.52407889 -0.35620143]\n",
      " [-0.21260266 -0.64497577 -0.60657612 -0.43442445]\n",
      " [-0.23271893 -0.71547162 -0.67685153 -0.50924646]\n",
      " ...\n",
      " [ 0.08914145  0.30942955  0.41394513  0.57227177]\n",
      " [ 0.08243603  0.27147025  0.36505788  0.51785576]\n",
      " [ 0.08243603  0.22537681  0.31617064  0.46343975]]\n"
     ]
    }
   ],
   "source": [
    "y = dataset['SM (0-5cm)']\n",
    "X = sc.fit_transform(X)\n",
    "print(X)"
   ]
  },
  {
   "cell_type": "code",
   "execution_count": 14,
   "metadata": {},
   "outputs": [
    {
     "name": "stdout",
     "output_type": "stream",
     "text": [
      "0       16.92\n",
      "1       16.82\n",
      "2       16.49\n",
      "3       16.75\n",
      "4       16.76\n",
      "        ...  \n",
      "6619     9.44\n",
      "6620     9.44\n",
      "6621     9.44\n",
      "6622     9.19\n",
      "6623     9.19\n",
      "Name: SM (0-5cm), Length: 6624, dtype: float64\n"
     ]
    }
   ],
   "source": [
    "print(y)"
   ]
  },
  {
   "cell_type": "code",
   "execution_count": 15,
   "metadata": {},
   "outputs": [],
   "source": [
    "from sklearn.model_selection import train_test_split\n",
    "X_train, X_test, y_train, y_test = train_test_split(X, y, test_size = 0.20, random_state = 0)"
   ]
  },
  {
   "cell_type": "code",
   "execution_count": 16,
   "metadata": {},
   "outputs": [
    {
     "data": {
      "text/plain": [
       "RandomForestRegressor(bootstrap=True, ccp_alpha=0.0, criterion='mse',\n",
       "                      max_depth=None, max_features='auto', max_leaf_nodes=None,\n",
       "                      max_samples=None, min_impurity_decrease=0.0,\n",
       "                      min_impurity_split=None, min_samples_leaf=1,\n",
       "                      min_samples_split=2, min_weight_fraction_leaf=0.0,\n",
       "                      n_estimators=10, n_jobs=None, oob_score=False,\n",
       "                      random_state=0, verbose=0, warm_start=False)"
      ]
     },
     "execution_count": 16,
     "metadata": {},
     "output_type": "execute_result"
    }
   ],
   "source": [
    "from sklearn.ensemble import RandomForestRegressor\n",
    "regressor = RandomForestRegressor(n_estimators = 10, random_state = 0)\n",
    "regressor.fit(X, y)"
   ]
  },
  {
   "cell_type": "code",
   "execution_count": 17,
   "metadata": {},
   "outputs": [
    {
     "name": "stdout",
     "output_type": "stream",
     "text": [
      "85.12610478832107 %\n"
     ]
    }
   ],
   "source": [
    "accuracy = regressor.score(X_test,y_test)\n",
    "print(accuracy*100,'%')"
   ]
  },
  {
   "cell_type": "code",
   "execution_count": 19,
   "metadata": {},
   "outputs": [
    {
     "name": "stdout",
     "output_type": "stream",
     "text": [
      "[16.467 11.651 23.577 ... 23.6   20.578 23.902]\n"
     ]
    }
   ],
   "source": [
    "y_pred = regressor.predict(X_test)\n",
    "print(y_pred)"
   ]
  },
  {
   "cell_type": "code",
   "execution_count": 20,
   "metadata": {},
   "outputs": [
    {
     "data": {
      "text/plain": [
       "0.8512610478832108"
      ]
     },
     "execution_count": 20,
     "metadata": {},
     "output_type": "execute_result"
    }
   ],
   "source": [
    "from sklearn.metrics import r2_score\n",
    "r2_score(y_test, y_pred)"
   ]
  },
  {
   "cell_type": "code",
   "execution_count": null,
   "metadata": {},
   "outputs": [],
   "source": []
  },
  {
   "cell_type": "code",
   "execution_count": 21,
   "metadata": {},
   "outputs": [
    {
     "data": {
      "text/plain": [
       "SVR(C=1.0, cache_size=200, coef0=0.0, degree=3, epsilon=0.1, gamma='scale',\n",
       "    kernel='rbf', max_iter=-1, shrinking=True, tol=0.001, verbose=False)"
      ]
     },
     "execution_count": 21,
     "metadata": {},
     "output_type": "execute_result"
    }
   ],
   "source": [
    "from sklearn.svm import SVR\n",
    "regressor_svm = SVR(kernel = 'rbf')\n",
    "regressor_svm.fit(X, y)"
   ]
  },
  {
   "cell_type": "code",
   "execution_count": 22,
   "metadata": {},
   "outputs": [
    {
     "name": "stdout",
     "output_type": "stream",
     "text": [
      "-6.432505150021339 %\n"
     ]
    }
   ],
   "source": [
    "accuracy = regressor_svm.score(X_test,y_test)\n",
    "print(accuracy*100,'%')"
   ]
  },
  {
   "cell_type": "code",
   "execution_count": null,
   "metadata": {},
   "outputs": [],
   "source": []
  }
 ],
 "metadata": {
  "kernelspec": {
   "display_name": "Python 3",
   "language": "python",
   "name": "python3"
  },
  "language_info": {
   "codemirror_mode": {
    "name": "ipython",
    "version": 3
   },
   "file_extension": ".py",
   "mimetype": "text/x-python",
   "name": "python",
   "nbconvert_exporter": "python",
   "pygments_lexer": "ipython3",
   "version": "3.7.6"
  }
 },
 "nbformat": 4,
 "nbformat_minor": 4
}
